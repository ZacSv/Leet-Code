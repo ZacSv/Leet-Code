{
 "cells": [
  {
   "cell_type": "code",
   "execution_count": 25,
   "id": "59cb6bea-a1fb-47ca-880c-7a1bb8e3adf5",
   "metadata": {},
   "outputs": [
    {
     "data": {
      "text/plain": [
       "3"
      ]
     },
     "execution_count": 25,
     "metadata": {},
     "output_type": "execute_result"
    }
   ],
   "source": [
    "def romanToInteger(s):    \n",
    "    roman = {'I': 1, 'V': 5, 'X': 10, 'L': 50, 'C': 100, 'D': 500, 'M': 1000}\n",
    "    result = 0\n",
    "\n",
    "    for i in range(len(s)):\n",
    "        if i < len(s) - 1 and roman[s[i]] < roman[s[i + 1]]:\n",
    "            result -= roman[s[i]]\n",
    "        else:\n",
    "            result += roman[s[i]]\n",
    "    return result"
   ]
  },
  {
   "cell_type": "code",
   "execution_count": null,
   "id": "007c0a84-715f-4e71-9e1f-59abc123704a",
   "metadata": {},
   "outputs": [],
   "source": []
  }
 ],
 "metadata": {
  "kernelspec": {
   "display_name": "Python 3 (ipykernel)",
   "language": "python",
   "name": "python3"
  },
  "language_info": {
   "codemirror_mode": {
    "name": "ipython",
    "version": 3
   },
   "file_extension": ".py",
   "mimetype": "text/x-python",
   "name": "python",
   "nbconvert_exporter": "python",
   "pygments_lexer": "ipython3",
   "version": "3.11.7"
  }
 },
 "nbformat": 4,
 "nbformat_minor": 5
}
